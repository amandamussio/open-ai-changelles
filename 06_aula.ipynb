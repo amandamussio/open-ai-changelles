{
 "cells": [
  {
   "cell_type": "code",
   "execution_count": 1,
   "metadata": {},
   "outputs": [],
   "source": [
    "\n",
    "import os\n",
    "import openai\n",
    "from dotenv import load_dotenv, find_dotenv\n",
    "\n",
    "# load .env file to environment\n",
    "_ = load_dotenv(find_dotenv())"
   ]
  },
  {
   "cell_type": "code",
   "execution_count": 2,
   "metadata": {},
   "outputs": [],
   "source": [
    "client = openai.Client()"
   ]
  },
  {
   "cell_type": "markdown",
   "metadata": {},
   "source": [
    "## Adicionando o Streaming para recuperar a resposta por partes"
   ]
  },
  {
   "cell_type": "code",
   "execution_count": 17,
   "metadata": {},
   "outputs": [],
   "source": [
    "messages = [{'role': 'user', 'content': 'crie uma história sobre uma viagem a marte'}]\n",
    "\n",
    "response = client.chat.completions.create(\n",
    "    messages=messages,\n",
    "    model='gpt-3.5-turbo-0125',\n",
    "    max_tokens=1000,\n",
    "    temperature=0,\n",
    "    stream=True\n",
    ")"
   ]
  },
  {
   "cell_type": "code",
   "execution_count": 18,
   "metadata": {},
   "outputs": [
    {
     "name": "stdout",
     "output_type": "stream",
     "text": [
      "Era o ano de 2050 e a humanidade finalmente havia conseguido enviar uma missão tripulada para Marte. A nave espacial, batizada de \"Explorador Vermelho\", estava equipada com tecnologia de ponta e uma tripulação de astronautas altamente treinados.\n",
      "\n",
      "A viagem até Marte durou meses, durante os quais os astronautas enfrentaram desafios e adversidades no espaço sideral. Mas finalmente, após uma jornada épica, a nave espacial pousou com segurança na superfície do Planeta Vermelho.\n",
      "\n",
      "Ao sair da nave, os astronautas ficaram maravilhados com a paisagem árida e desolada de Marte. O céu era de um tom avermelhado e as montanhas ao longe pareciam majestosas e imponentes.\n",
      "\n",
      "Durante os dias seguintes, os astronautas exploraram a superfície de Marte, coletando amostras de solo e rochas para análise. Eles também descobriram vestígios de vida microbiana, o que levou a novas teorias sobre a possibilidade de vida em Marte no passado.\n",
      "\n",
      "Mas a viagem não foi apenas sobre descobertas científicas. Os astronautas também tiveram tempo para contemplar a beleza do planeta, observando os pores do sol e as estrelas brilhantes no céu noturno.\n",
      "\n",
      "Após semanas de exploração, a missão chegou ao fim e os astronautas se prepararam para retornar à Terra. Enquanto a nave decolava de Marte, os astronautas olharam para trás, sabendo que haviam feito história ao explorar um novo mundo.\n",
      "\n",
      "E assim, a missão ao Planeta Vermelho chegou ao fim, mas as descobertas e memórias da viagem permaneceriam para sempre na mente dos corajosos exploradores que ousaram viajar até Marte."
     ]
    }
   ],
   "source": [
    "complete_response = ''\n",
    "for stream_response in response:\n",
    "    text = stream_response.choices[0].delta.content\n",
    "    if text:\n",
    "        complete_response += text\n",
    "        print(text, end='')"
   ]
  }
 ],
 "metadata": {
  "kernelspec": {
   "display_name": "Python 3.12.6 64-bit",
   "language": "python",
   "name": "python3"
  },
  "language_info": {
   "codemirror_mode": {
    "name": "ipython",
    "version": 3
   },
   "file_extension": ".py",
   "mimetype": "text/x-python",
   "name": "python",
   "nbconvert_exporter": "python",
   "pygments_lexer": "ipython3",
   "version": "3.12.6"
  },
  "orig_nbformat": 4,
  "vscode": {
   "interpreter": {
    "hash": "aee8b7b246df8f9039afb4144a1f6fd8d2ca17a180786b69acc140d282b71a49"
   }
  }
 },
 "nbformat": 4,
 "nbformat_minor": 2
}
